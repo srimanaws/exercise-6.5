{
 "cells": [
  {
   "cell_type": "code",
   "execution_count": 1,
   "id": "aefc1363-dde3-4d26-ab26-9051b0255e58",
   "metadata": {},
   "outputs": [
    {
     "name": "stdin",
     "output_type": "stream",
     "text": [
      "Enter a sentence:  The cat chased the dog but the cat ran away\n"
     ]
    },
    {
     "name": "stdout",
     "output_type": "stream",
     "text": [
      "The word 'the' appears 3 times.\n",
      "The word 'cat' appears 2 times.\n",
      "\n",
      "There are 2 duplicate words in total.\n"
     ]
    }
   ],
   "source": [
    "# Exercise6.5 Sriman - Counting Duplicate Words\n",
    "\n",
    "# Get a sentence from the user\n",
    "sentence = input(\"Enter a sentence: \")\n",
    "\n",
    "# Convert the entire sentence to lowercase and split it into individual words\n",
    "words = sentence.lower().split()\n",
    "\n",
    "# Create an empty dictionary to keep track of word counts\n",
    "word_counts = {}\n",
    "\n",
    "# Go through each word in the list and count how many times it appears\n",
    "for word in words:\n",
    "    if word in word_counts:\n",
    "        word_counts[word] += 1\n",
    "    else:\n",
    "        word_counts[word] = 1\n",
    "\n",
    "# Check for duplicate words (words that appear more than once)\n",
    "duplicate_count = 0\n",
    "for word, count in word_counts.items():\n",
    "    if count > 1:\n",
    "        duplicate_count += 1\n",
    "        print(f\"The word '{word}' appears {count} times.\")\n",
    "\n",
    "# Print the total number of duplicate words\n",
    "if duplicate_count == 0:\n",
    "    print(\"No duplicate words found.\")\n",
    "else:\n",
    "    print(f\"\\nThere are {duplicate_count} duplicate words in total.\")\n"
   ]
  },
  {
   "cell_type": "code",
   "execution_count": null,
   "id": "011c48d7-ced3-4a46-a116-1d61230ce03a",
   "metadata": {},
   "outputs": [],
   "source": []
  }
 ],
 "metadata": {
  "kernelspec": {
   "display_name": "Python 3 (ipykernel)",
   "language": "python",
   "name": "python3"
  },
  "language_info": {
   "codemirror_mode": {
    "name": "ipython",
    "version": 3
   },
   "file_extension": ".py",
   "mimetype": "text/x-python",
   "name": "python",
   "nbconvert_exporter": "python",
   "pygments_lexer": "ipython3",
   "version": "3.12.4"
  }
 },
 "nbformat": 4,
 "nbformat_minor": 5
}
